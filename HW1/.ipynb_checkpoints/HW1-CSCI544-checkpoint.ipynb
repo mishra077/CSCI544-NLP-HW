{
 "cells": [
  {
   "cell_type": "code",
   "execution_count": 44,
   "metadata": {},
   "outputs": [
    {
     "name": "stderr",
     "output_type": "stream",
     "text": [
      "[nltk_data] Downloading package wordnet to\n",
      "[nltk_data]     C:\\Users\\mishr\\AppData\\Roaming\\nltk_data...\n",
      "[nltk_data]   Package wordnet is already up-to-date!\n"
     ]
    }
   ],
   "source": [
    "import pandas as pd\n",
    "import numpy as np\n",
    "import nltk\n",
    "nltk.download('wordnet')\n",
    "import re\n",
    "from bs4 import BeautifulSoup\n",
    " "
   ]
  },
  {
   "cell_type": "code",
   "execution_count": 45,
   "metadata": {},
   "outputs": [],
   "source": [
    "#pip install bs4 # in case you don't have it installed\n",
    "\n",
    "# Dataset: https://s3.amazonaws.com/amazon-reviews-pds/tsv/amazon_reviews_us_Kitchen_v1_00.tsv.gz"
   ]
  },
  {
   "cell_type": "markdown",
   "metadata": {},
   "source": [
    "## Read Data"
   ]
  },
  {
   "cell_type": "code",
   "execution_count": 142,
   "metadata": {},
   "outputs": [
    {
     "name": "stderr",
     "output_type": "stream",
     "text": [
      "b'Skipping line 16148: expected 15 fields, saw 22\\nSkipping line 20100: expected 15 fields, saw 22\\nSkipping line 45178: expected 15 fields, saw 22\\nSkipping line 48700: expected 15 fields, saw 22\\nSkipping line 63331: expected 15 fields, saw 22\\n'\n",
      "b'Skipping line 86053: expected 15 fields, saw 22\\nSkipping line 88858: expected 15 fields, saw 22\\nSkipping line 115017: expected 15 fields, saw 22\\n'\n",
      "b'Skipping line 137366: expected 15 fields, saw 22\\nSkipping line 139110: expected 15 fields, saw 22\\nSkipping line 165540: expected 15 fields, saw 22\\nSkipping line 171813: expected 15 fields, saw 22\\n'\n",
      "b'Skipping line 203723: expected 15 fields, saw 22\\nSkipping line 209366: expected 15 fields, saw 22\\nSkipping line 211310: expected 15 fields, saw 22\\nSkipping line 246351: expected 15 fields, saw 22\\nSkipping line 252364: expected 15 fields, saw 22\\n'\n",
      "b'Skipping line 267003: expected 15 fields, saw 22\\nSkipping line 268957: expected 15 fields, saw 22\\nSkipping line 303336: expected 15 fields, saw 22\\nSkipping line 306021: expected 15 fields, saw 22\\nSkipping line 311569: expected 15 fields, saw 22\\nSkipping line 316767: expected 15 fields, saw 22\\nSkipping line 324009: expected 15 fields, saw 22\\n'\n",
      "b'Skipping line 359107: expected 15 fields, saw 22\\nSkipping line 368367: expected 15 fields, saw 22\\nSkipping line 381180: expected 15 fields, saw 22\\nSkipping line 390453: expected 15 fields, saw 22\\n'\n",
      "b'Skipping line 412243: expected 15 fields, saw 22\\nSkipping line 419342: expected 15 fields, saw 22\\nSkipping line 457388: expected 15 fields, saw 22\\n'\n",
      "b'Skipping line 459935: expected 15 fields, saw 22\\nSkipping line 460167: expected 15 fields, saw 22\\nSkipping line 466460: expected 15 fields, saw 22\\nSkipping line 500314: expected 15 fields, saw 22\\nSkipping line 500339: expected 15 fields, saw 22\\nSkipping line 505396: expected 15 fields, saw 22\\nSkipping line 507760: expected 15 fields, saw 22\\nSkipping line 513626: expected 15 fields, saw 22\\n'\n",
      "b'Skipping line 527638: expected 15 fields, saw 22\\nSkipping line 534209: expected 15 fields, saw 22\\nSkipping line 535687: expected 15 fields, saw 22\\nSkipping line 547671: expected 15 fields, saw 22\\nSkipping line 549054: expected 15 fields, saw 22\\n'\n",
      "b'Skipping line 599929: expected 15 fields, saw 22\\nSkipping line 604776: expected 15 fields, saw 22\\nSkipping line 609937: expected 15 fields, saw 22\\nSkipping line 632059: expected 15 fields, saw 22\\nSkipping line 638546: expected 15 fields, saw 22\\n'\n",
      "b'Skipping line 665017: expected 15 fields, saw 22\\nSkipping line 677680: expected 15 fields, saw 22\\nSkipping line 684370: expected 15 fields, saw 22\\nSkipping line 720217: expected 15 fields, saw 29\\n'\n",
      "b'Skipping line 723240: expected 15 fields, saw 22\\nSkipping line 723433: expected 15 fields, saw 22\\nSkipping line 763891: expected 15 fields, saw 22\\n'\n",
      "b'Skipping line 800288: expected 15 fields, saw 22\\nSkipping line 802942: expected 15 fields, saw 22\\nSkipping line 803379: expected 15 fields, saw 22\\nSkipping line 805122: expected 15 fields, saw 22\\nSkipping line 821899: expected 15 fields, saw 22\\nSkipping line 831707: expected 15 fields, saw 22\\nSkipping line 842829: expected 15 fields, saw 22\\nSkipping line 843604: expected 15 fields, saw 22\\n'\n",
      "b'Skipping line 863904: expected 15 fields, saw 22\\nSkipping line 875655: expected 15 fields, saw 22\\nSkipping line 886796: expected 15 fields, saw 22\\nSkipping line 892299: expected 15 fields, saw 22\\nSkipping line 902518: expected 15 fields, saw 22\\nSkipping line 903079: expected 15 fields, saw 22\\nSkipping line 912678: expected 15 fields, saw 22\\n'\n",
      "b'Skipping line 932953: expected 15 fields, saw 22\\nSkipping line 936838: expected 15 fields, saw 22\\nSkipping line 937177: expected 15 fields, saw 22\\nSkipping line 947695: expected 15 fields, saw 22\\nSkipping line 960713: expected 15 fields, saw 22\\nSkipping line 965225: expected 15 fields, saw 22\\nSkipping line 980776: expected 15 fields, saw 22\\n'\n",
      "b'Skipping line 999318: expected 15 fields, saw 22\\nSkipping line 1007247: expected 15 fields, saw 22\\nSkipping line 1015987: expected 15 fields, saw 22\\nSkipping line 1018984: expected 15 fields, saw 22\\nSkipping line 1028671: expected 15 fields, saw 22\\n'\n",
      "b'Skipping line 1063360: expected 15 fields, saw 22\\nSkipping line 1066195: expected 15 fields, saw 22\\nSkipping line 1066578: expected 15 fields, saw 22\\nSkipping line 1066869: expected 15 fields, saw 22\\nSkipping line 1068809: expected 15 fields, saw 22\\nSkipping line 1069505: expected 15 fields, saw 22\\nSkipping line 1087983: expected 15 fields, saw 22\\nSkipping line 1108184: expected 15 fields, saw 22\\n'\n",
      "b'Skipping line 1118137: expected 15 fields, saw 22\\nSkipping line 1142723: expected 15 fields, saw 22\\nSkipping line 1152492: expected 15 fields, saw 22\\nSkipping line 1156947: expected 15 fields, saw 22\\nSkipping line 1172563: expected 15 fields, saw 22\\n'\n",
      "b'Skipping line 1209254: expected 15 fields, saw 22\\nSkipping line 1212966: expected 15 fields, saw 22\\nSkipping line 1236533: expected 15 fields, saw 22\\nSkipping line 1237598: expected 15 fields, saw 22\\n'\n",
      "b'Skipping line 1273825: expected 15 fields, saw 22\\nSkipping line 1277898: expected 15 fields, saw 22\\nSkipping line 1283654: expected 15 fields, saw 22\\nSkipping line 1286023: expected 15 fields, saw 22\\nSkipping line 1302038: expected 15 fields, saw 22\\nSkipping line 1305179: expected 15 fields, saw 22\\n'\n",
      "b'Skipping line 1326022: expected 15 fields, saw 22\\nSkipping line 1338120: expected 15 fields, saw 22\\nSkipping line 1338503: expected 15 fields, saw 22\\nSkipping line 1338849: expected 15 fields, saw 22\\nSkipping line 1341513: expected 15 fields, saw 22\\nSkipping line 1346493: expected 15 fields, saw 22\\nSkipping line 1373127: expected 15 fields, saw 22\\n'\n",
      "b'Skipping line 1389508: expected 15 fields, saw 22\\nSkipping line 1413951: expected 15 fields, saw 22\\nSkipping line 1433626: expected 15 fields, saw 22\\n'\n",
      "b'Skipping line 1442698: expected 15 fields, saw 22\\nSkipping line 1472982: expected 15 fields, saw 22\\nSkipping line 1482282: expected 15 fields, saw 22\\nSkipping line 1487808: expected 15 fields, saw 22\\nSkipping line 1500636: expected 15 fields, saw 22\\n'\n",
      "b'Skipping line 1511479: expected 15 fields, saw 22\\nSkipping line 1532302: expected 15 fields, saw 22\\nSkipping line 1537952: expected 15 fields, saw 22\\nSkipping line 1539951: expected 15 fields, saw 22\\nSkipping line 1541020: expected 15 fields, saw 22\\n'\n",
      "b'Skipping line 1594217: expected 15 fields, saw 22\\nSkipping line 1612264: expected 15 fields, saw 22\\nSkipping line 1615907: expected 15 fields, saw 22\\nSkipping line 1621859: expected 15 fields, saw 22\\n'\n",
      "b'Skipping line 1653542: expected 15 fields, saw 22\\nSkipping line 1671537: expected 15 fields, saw 22\\nSkipping line 1672879: expected 15 fields, saw 22\\nSkipping line 1674523: expected 15 fields, saw 22\\nSkipping line 1677355: expected 15 fields, saw 22\\nSkipping line 1703907: expected 15 fields, saw 22\\n'\n",
      "b'Skipping line 1713046: expected 15 fields, saw 22\\nSkipping line 1722982: expected 15 fields, saw 22\\nSkipping line 1727290: expected 15 fields, saw 22\\nSkipping line 1744482: expected 15 fields, saw 22\\n'\n",
      "b'Skipping line 1803858: expected 15 fields, saw 22\\nSkipping line 1810069: expected 15 fields, saw 22\\nSkipping line 1829751: expected 15 fields, saw 22\\nSkipping line 1831699: expected 15 fields, saw 22\\n'\n",
      "b'Skipping line 1863131: expected 15 fields, saw 22\\nSkipping line 1867917: expected 15 fields, saw 22\\nSkipping line 1874790: expected 15 fields, saw 22\\nSkipping line 1879952: expected 15 fields, saw 22\\nSkipping line 1880501: expected 15 fields, saw 22\\nSkipping line 1886655: expected 15 fields, saw 22\\nSkipping line 1887888: expected 15 fields, saw 22\\nSkipping line 1894286: expected 15 fields, saw 22\\nSkipping line 1895400: expected 15 fields, saw 22\\n'\n",
      "b'Skipping line 1904040: expected 15 fields, saw 22\\nSkipping line 1907604: expected 15 fields, saw 22\\nSkipping line 1915739: expected 15 fields, saw 22\\nSkipping line 1921514: expected 15 fields, saw 22\\nSkipping line 1939428: expected 15 fields, saw 22\\nSkipping line 1944342: expected 15 fields, saw 22\\nSkipping line 1949699: expected 15 fields, saw 22\\nSkipping line 1961872: expected 15 fields, saw 22\\n'\n"
     ]
    },
    {
     "name": "stderr",
     "output_type": "stream",
     "text": [
      "b'Skipping line 1968846: expected 15 fields, saw 22\\nSkipping line 1999941: expected 15 fields, saw 22\\nSkipping line 2001492: expected 15 fields, saw 22\\nSkipping line 2011204: expected 15 fields, saw 22\\nSkipping line 2025295: expected 15 fields, saw 22\\n'\n",
      "b'Skipping line 2041266: expected 15 fields, saw 22\\nSkipping line 2073314: expected 15 fields, saw 22\\nSkipping line 2080133: expected 15 fields, saw 22\\nSkipping line 2088521: expected 15 fields, saw 22\\n'\n",
      "b'Skipping line 2103490: expected 15 fields, saw 22\\nSkipping line 2115278: expected 15 fields, saw 22\\nSkipping line 2153174: expected 15 fields, saw 22\\nSkipping line 2161731: expected 15 fields, saw 22\\n'\n",
      "b'Skipping line 2165250: expected 15 fields, saw 22\\nSkipping line 2175132: expected 15 fields, saw 22\\nSkipping line 2206817: expected 15 fields, saw 22\\nSkipping line 2215848: expected 15 fields, saw 22\\nSkipping line 2223811: expected 15 fields, saw 22\\n'\n",
      "b'Skipping line 2257265: expected 15 fields, saw 22\\nSkipping line 2259163: expected 15 fields, saw 22\\nSkipping line 2263291: expected 15 fields, saw 22\\n'\n",
      "b'Skipping line 2301943: expected 15 fields, saw 22\\nSkipping line 2304371: expected 15 fields, saw 22\\nSkipping line 2306015: expected 15 fields, saw 22\\nSkipping line 2312186: expected 15 fields, saw 22\\nSkipping line 2314740: expected 15 fields, saw 22\\nSkipping line 2317754: expected 15 fields, saw 22\\n'\n",
      "b'Skipping line 2383514: expected 15 fields, saw 22\\n'\n",
      "b'Skipping line 2449763: expected 15 fields, saw 22\\n'\n",
      "b'Skipping line 2589323: expected 15 fields, saw 22\\n'\n",
      "b'Skipping line 2775036: expected 15 fields, saw 22\\n'\n",
      "b'Skipping line 2935174: expected 15 fields, saw 22\\n'\n",
      "b'Skipping line 3078830: expected 15 fields, saw 22\\n'\n",
      "b'Skipping line 3123091: expected 15 fields, saw 22\\n'\n",
      "b'Skipping line 3185533: expected 15 fields, saw 22\\n'\n",
      "b'Skipping line 4150395: expected 15 fields, saw 22\\n'\n",
      "b'Skipping line 4748401: expected 15 fields, saw 22\\n'\n"
     ]
    }
   ],
   "source": [
    "df = pd.read_csv(\"../amazon_reviews_us_Kitchen_v1_00.tsv\", sep = \"\\t\", error_bad_lines=False)"
   ]
  },
  {
   "cell_type": "markdown",
   "metadata": {},
   "source": [
    "## Keep Reviews and Ratings"
   ]
  },
  {
   "cell_type": "code",
   "execution_count": 143,
   "metadata": {},
   "outputs": [
    {
     "name": "stdout",
     "output_type": "stream",
     "text": [
      "         star_rating                                        review_body\n",
      "0                5.0                Beautiful.  Looks great on counter.\n",
      "1                5.0  I personally have 5 days sets and have also bo...\n",
      "2                5.0  Fabulous and worth every penny. Used for clean...\n",
      "3                5.0  A must if you love garlic on tomato marinara s...\n",
      "4                5.0  Worth every penny! Buy one now and be a pizza ...\n",
      "...              ...                                                ...\n",
      "4874885          4.0  After a month of heavy use, primarily as a chi...\n",
      "4874886          5.0  I've used my Le Creuset enameled cast iron coo...\n",
      "4874887          4.0  According to my wife, this is \\\\\"the best birt...\n",
      "4874888          4.0  Hoffritz has a name of producing a trendy and ...\n",
      "4874889          5.0  OK. I was late to snap to the Dead Reckoners. ...\n",
      "\n",
      "[4874890 rows x 2 columns]\n",
      "426900\n",
      "241948\n",
      "349547\n",
      "731733\n",
      "3124759\n",
      "star_rating      3\n",
      "review_body    246\n",
      "dtype: int64\n",
      "star_rating    0\n",
      "review_body    0\n",
      "dtype: int64\n"
     ]
    }
   ],
   "source": [
    "df = df[['star_rating', 'review_body']]\n",
    "# df = df.dropna()\n",
    "print(df)\n",
    "for i in range(1, 6):\n",
    "    print(len(df[df.star_rating == i]))\n",
    "print(df.isnull().sum())\n",
    "df = df.dropna()\n",
    "print(df.isnull().sum())\n",
    "x = df"
   ]
  },
  {
   "cell_type": "markdown",
   "metadata": {},
   "source": [
    "# Labelling Reviews:\n",
    "## The reviews with rating 4,5 are labelled to be 1 and 1,2 are labelled as 0. Discard the reviews with rating 3'"
   ]
  },
  {
   "cell_type": "code",
   "execution_count": 150,
   "metadata": {},
   "outputs": [
    {
     "name": "stdout",
     "output_type": "stream",
     "text": [
      "3856296\n",
      "668809\n",
      "         star_rating                                        review_body  label\n",
      "0                5.0                Beautiful.  Looks great on counter.      1\n",
      "1                5.0  I personally have 5 days sets and have also bo...      1\n",
      "2                5.0  Fabulous and worth every penny. Used for clean...      1\n",
      "3                5.0  A must if you love garlic on tomato marinara s...      1\n",
      "4                5.0  Worth every penny! Buy one now and be a pizza ...      1\n",
      "...              ...                                                ...    ...\n",
      "4874885          4.0  After a month of heavy use, primarily as a chi...      1\n",
      "4874886          5.0  I've used my Le Creuset enameled cast iron coo...      1\n",
      "4874887          4.0  According to my wife, this is \\\\\"the best birt...      1\n",
      "4874888          4.0  Hoffritz has a name of producing a trendy and ...      1\n",
      "4874889          5.0  OK. I was late to snap to the Dead Reckoners. ...      1\n",
      "\n",
      "[4525105 rows x 3 columns]\n",
      "star_rating    0\n",
      "review_body    0\n",
      "label          0\n",
      "dtype: int64\n"
     ]
    }
   ],
   "source": [
    "df = df[df.star_rating != 3]\n",
    "df['label'] = df.apply(lambda row: 1 if row.star_rating > 3 else 0, axis = 1)\n",
    "print(len(df[df.label == 1]))\n",
    "print(len(df[df.label == 0]))"
   ]
  },
  {
   "cell_type": "markdown",
   "metadata": {},
   "source": [
    " ## We select 200000 reviews randomly with 100,000 positive and 100,000 negative reviews.\n",
    "\n"
   ]
  },
  {
   "cell_type": "code",
   "execution_count": 151,
   "metadata": {},
   "outputs": [
    {
     "name": "stdout",
     "output_type": "stream",
     "text": [
      "star_rating    0\n",
      "review_body    0\n",
      "label          0\n",
      "dtype: int64\n",
      "160000\n",
      "40000\n",
      "        star_rating                                        review_body  label\n",
      "0               1.0                                    Broke in a week      0\n",
      "1               2.0  this didnt work like the instructions said it ...      0\n",
      "2               5.0  Gave this to a friend as a gift. It is a very ...      1\n",
      "3               5.0       Awesome knives! I use these for everything!!      1\n",
      "4               5.0  As a foodie, and one who listens to the Americ...      1\n",
      "...             ...                                                ...    ...\n",
      "159995          1.0  I bought this product after reading about the ...      0\n",
      "159996          5.0  He topper came quickly and my niece loved her ...      1\n",
      "159997          2.0  For a number of years I have owned a Maverick ...      0\n",
      "159998          5.0  Great size, the price was half of stores, exce...      1\n",
      "159999          2.0  My coffee maker was just over a year old, when...      0\n",
      "\n",
      "[160000 rows x 3 columns]\n"
     ]
    }
   ],
   "source": [
    "positive = df[df['label'] == 1]\n",
    "negative = df[df['label'] == 0]\n",
    "positive = positive.sample(n = 100000)\n",
    "negative = negative.sample(n = 100000)\n",
    "dataset = pd.concat([positive, negative])\n",
    "dataset = dataset.reset_index(drop = True)\n",
    "print(dataset.isnull().sum())\n",
    "train=dataset.sample(frac=0.8,random_state=200)\n",
    "test = dataset.drop(train.index)\n",
    "print(len(train))\n",
    "print(len(test))\n",
    "train = train.reset_index(drop = True)\n",
    "test = test.reset_index(drop = True)\n",
    "print(train)"
   ]
  },
  {
   "cell_type": "markdown",
   "metadata": {},
   "source": [
    "# Data Cleaning\n",
    "\n",
    "## Convert the all reviews into the lower case."
   ]
  },
  {
   "cell_type": "code",
   "execution_count": 152,
   "metadata": {},
   "outputs": [],
   "source": [
    "train['review_body'] = train['review_body'].str.lower()\n",
    "test['review_body'] = test['review_body'].str.lower()\n",
    "# print(train)"
   ]
  },
  {
   "cell_type": "markdown",
   "metadata": {},
   "source": [
    "## remove the HTML and URLs from the reviews"
   ]
  },
  {
   "cell_type": "code",
   "execution_count": 153,
   "metadata": {
    "scrolled": true
   },
   "outputs": [],
   "source": [
    "def remove_html_and_url(x):\n",
    "    x = re.sub(r'(https?:\\/\\/)?([\\da-z\\.-]+)\\.([a-z\\.]{2,6})([\\/\\w \\.-]*)', '', x, flags=re.MULTILINE)\n",
    "    soup = BeautifulSoup(x, 'html.parser')\n",
    "    x = soup.get_text()\n",
    "    return x\n",
    "\n",
    "train.review_body = train.review_body.apply(lambda x: remove_html_and_url(x))\n",
    "test.review_body = test.review_body.apply(lambda x: remove_html_and_url(x))"
   ]
  },
  {
   "cell_type": "markdown",
   "metadata": {},
   "source": [
    "## remove non-alphabetical characters"
   ]
  },
  {
   "cell_type": "code",
   "execution_count": 155,
   "metadata": {},
   "outputs": [
    {
     "name": "stdout",
     "output_type": "stream",
     "text": [
      "        star_rating                                        review_body  label\n",
      "0               1.0                                    broke in a week      0\n",
      "1               2.0     this didnt work like the instructions said it       0\n",
      "2               5.0  gave this to a friend as a gift it is a very n...      1\n",
      "3               5.0         awesome knives i use these for everything       1\n",
      "4               5.0  as a foodie and one who listens to the america...      1\n",
      "...             ...                                                ...    ...\n",
      "159995          1.0  i bought this product after reading about the ...      0\n",
      "159996          5.0  he topper came quickly and my niece loved her ...      1\n",
      "159997          2.0  for a number of years i have owned a maverick ...      0\n",
      "159998          5.0  great size the price was half of stores excell...      1\n",
      "159999          2.0  my coffee maker was just over a year old when ...      0\n",
      "\n",
      "[160000 rows x 3 columns]\n",
      "       star_rating                                        review_body  label\n",
      "0              5.0  very pleased with product heavy cookie sheet a...      1\n",
      "1              5.0   very handy item for extra storage space in your       1\n",
      "2              5.0                                              great      1\n",
      "3              5.0                   great containers dishwasher safe      1\n",
      "4              4.0  since cooking is a serious hobby for me i spen...      1\n",
      "...            ...                                                ...    ...\n",
      "39995          1.0  the lunch was not as pictured and described it...      0\n",
      "39996          1.0  i was so eager to use this coffee pot since i ...      0\n",
      "39997          2.0  this grinder is neatly small and has a nice ca...      0\n",
      "39998          1.0  my mother in law bought us the keurig elite a ...      0\n",
      "39999          2.0           waste of money but it wasn't much money       0\n",
      "\n",
      "[40000 rows x 3 columns]\n"
     ]
    }
   ],
   "source": [
    "# train.review_body = train.review_body.apply(lambda x: re.sub(\"[^a-zA-Z']+\", \" \", x))\n",
    "# test.review_body = test.review_body.apply(lambda x: re.sub(\"[^a-zA-Z']+\", \" \", x))\n",
    "# print(train.isnull().sum())\n",
    "# print(test.isnull().sum())\n",
    "print(train)\n",
    "print(test)"
   ]
  },
  {
   "cell_type": "markdown",
   "metadata": {},
   "source": [
    "## Remove the extra spaces between the words"
   ]
  },
  {
   "cell_type": "code",
   "execution_count": 132,
   "metadata": {},
   "outputs": [
    {
     "data": {
      "text/html": [
       "<div>\n",
       "<style scoped>\n",
       "    .dataframe tbody tr th:only-of-type {\n",
       "        vertical-align: middle;\n",
       "    }\n",
       "\n",
       "    .dataframe tbody tr th {\n",
       "        vertical-align: top;\n",
       "    }\n",
       "\n",
       "    .dataframe thead th {\n",
       "        text-align: right;\n",
       "    }\n",
       "</style>\n",
       "<table border=\"1\" class=\"dataframe\">\n",
       "  <thead>\n",
       "    <tr style=\"text-align: right;\">\n",
       "      <th></th>\n",
       "      <th>star_rating</th>\n",
       "      <th>review_body</th>\n",
       "      <th>label</th>\n",
       "    </tr>\n",
       "  </thead>\n",
       "  <tbody>\n",
       "    <tr>\n",
       "      <th>0</th>\n",
       "      <td>5.0</td>\n",
       "      <td>stays in place and i never drop my phone if it...</td>\n",
       "      <td>1</td>\n",
       "    </tr>\n",
       "    <tr>\n",
       "      <th>1</th>\n",
       "      <td>5.0</td>\n",
       "      <td>this is a fabulous frother here s a tip for al...</td>\n",
       "      <td>1</td>\n",
       "    </tr>\n",
       "    <tr>\n",
       "      <th>2</th>\n",
       "      <td>5.0</td>\n",
       "      <td>way more bells and whistles than i need and we...</td>\n",
       "      <td>1</td>\n",
       "    </tr>\n",
       "    <tr>\n",
       "      <th>3</th>\n",
       "      <td>5.0</td>\n",
       "      <td>i have wanted these attachments for years now ...</td>\n",
       "      <td>1</td>\n",
       "    </tr>\n",
       "    <tr>\n",
       "      <th>4</th>\n",
       "      <td>5.0</td>\n",
       "      <td>not much to say on this this pan worked perfec...</td>\n",
       "      <td>1</td>\n",
       "    </tr>\n",
       "    <tr>\n",
       "      <th>...</th>\n",
       "      <td>...</td>\n",
       "      <td>...</td>\n",
       "      <td>...</td>\n",
       "    </tr>\n",
       "    <tr>\n",
       "      <th>39995</th>\n",
       "      <td>1.0</td>\n",
       "      <td>amazon is great this machine sucks within the ...</td>\n",
       "      <td>0</td>\n",
       "    </tr>\n",
       "    <tr>\n",
       "      <th>39996</th>\n",
       "      <td>1.0</td>\n",
       "      <td>we bought this set while on a bit of a shoppin...</td>\n",
       "      <td>0</td>\n",
       "    </tr>\n",
       "    <tr>\n",
       "      <th>39997</th>\n",
       "      <td>1.0</td>\n",
       "      <td>i was so happy with this mug that i bought jus...</td>\n",
       "      <td>0</td>\n",
       "    </tr>\n",
       "    <tr>\n",
       "      <th>39998</th>\n",
       "      <td>1.0</td>\n",
       "      <td>what a complete piece of crap muddy coffee bro...</td>\n",
       "      <td>0</td>\n",
       "    </tr>\n",
       "    <tr>\n",
       "      <th>39999</th>\n",
       "      <td>2.0</td>\n",
       "      <td>the knead blade doesn t drop in place on the s...</td>\n",
       "      <td>0</td>\n",
       "    </tr>\n",
       "  </tbody>\n",
       "</table>\n",
       "<p>40000 rows × 3 columns</p>\n",
       "</div>"
      ],
      "text/plain": [
       "       star_rating                                        review_body  label\n",
       "0              5.0  stays in place and i never drop my phone if it...      1\n",
       "1              5.0  this is a fabulous frother here s a tip for al...      1\n",
       "2              5.0  way more bells and whistles than i need and we...      1\n",
       "3              5.0  i have wanted these attachments for years now ...      1\n",
       "4              5.0  not much to say on this this pan worked perfec...      1\n",
       "...            ...                                                ...    ...\n",
       "39995          1.0  amazon is great this machine sucks within the ...      0\n",
       "39996          1.0  we bought this set while on a bit of a shoppin...      0\n",
       "39997          1.0  i was so happy with this mug that i bought jus...      0\n",
       "39998          1.0  what a complete piece of crap muddy coffee bro...      0\n",
       "39999          2.0  the knead blade doesn t drop in place on the s...      0\n",
       "\n",
       "[40000 rows x 3 columns]"
      ]
     },
     "execution_count": 132,
     "metadata": {},
     "output_type": "execute_result"
    }
   ],
   "source": [
    "train.review_body = train.review_body.apply(lambda x: re.sub(' +', ' ', x))\n",
    "test.review_body = test.review_body.apply(lambda x: re.sub(' +', ' ', x))\n",
    "train\n",
    "test"
   ]
  },
  {
   "cell_type": "markdown",
   "metadata": {},
   "source": [
    "## perform contractions on the reviews."
   ]
  },
  {
   "cell_type": "code",
   "execution_count": 156,
   "metadata": {
    "scrolled": true
   },
   "outputs": [
    {
     "name": "stdout",
     "output_type": "stream",
     "text": [
      "        star_rating                                        review_body  label\n",
      "0               1.0                                    broke in a week      0\n",
      "1               2.0   this did not work like the instructions said it       0\n",
      "2               5.0  gave this to a friend as a gift it is a very n...      1\n",
      "3               5.0         awesome knives i use these for everything       1\n",
      "4               5.0  as a foodie and one who listens to the america...      1\n",
      "...             ...                                                ...    ...\n",
      "159995          1.0  i bought this product after reading about the ...      0\n",
      "159996          5.0  he topper came quickly and my niece loved her ...      1\n",
      "159997          2.0  for a number of years i have owned a maverick ...      0\n",
      "159998          5.0  great size the price was half of stores excell...      1\n",
      "159999          2.0  my coffee maker was just over a year old when ...      0\n",
      "\n",
      "[160000 rows x 3 columns]\n",
      "       star_rating                                        review_body  label\n",
      "0              5.0  very pleased with product heavy cookie sheet a...      1\n",
      "1              5.0   very handy item for extra storage space in your       1\n",
      "2              5.0                                              great      1\n",
      "3              5.0                   great containers dishwasher safe      1\n",
      "4              4.0  since cooking is a serious hobby for me i spen...      1\n",
      "...            ...                                                ...    ...\n",
      "39995          1.0  the lunch was not as pictured and described it...      0\n",
      "39996          1.0  i was so eager to use this coffee pot since i ...      0\n",
      "39997          2.0  this grinder is neatly small and has a nice ca...      0\n",
      "39998          1.0  my mother in law bought us the keurig elite a ...      0\n",
      "39999          2.0          waste of money but it was not much money       0\n",
      "\n",
      "[40000 rows x 3 columns]\n"
     ]
    }
   ],
   "source": [
    "import contractions\n",
    "def contractionfunction(s):\n",
    "    s = contractions.fix(s)\n",
    "    s = re.sub(\"[^a-zA-Z]+\", \" \", s)\n",
    "    return s\n",
    "train.review_body = train.review_body.apply(lambda x: contractionfunction(x))\n",
    "test.review_body = test.review_body.apply(lambda x: contractionfunction(x))\n",
    "\n",
    "print(train)\n",
    "print(test)"
   ]
  },
  {
   "cell_type": "markdown",
   "metadata": {},
   "source": [
    "# Pre-processing"
   ]
  },
  {
   "cell_type": "markdown",
   "metadata": {},
   "source": [
    "## remove the stop words "
   ]
  },
  {
   "cell_type": "code",
   "execution_count": null,
   "metadata": {},
   "outputs": [],
   "source": [
    "from nltk.corpus import stopwords\n",
    "from nltk.tokenize import word_tokenize\n",
    " def remove_stopwords(s):\n",
    "        text_tokens = word_tokenize(s)\n",
    "        tokens_without_sw = [word for word in text_tokens if not word in stopwords.words('english')]\n",
    "        \n",
    "        \n",
    "        \n",
    "        "
   ]
  },
  {
   "cell_type": "markdown",
   "metadata": {},
   "source": [
    "## perform lemmatization  "
   ]
  },
  {
   "cell_type": "code",
   "execution_count": null,
   "metadata": {},
   "outputs": [],
   "source": [
    "from nltk.stem import WordNetLemmatizer\n"
   ]
  },
  {
   "cell_type": "markdown",
   "metadata": {},
   "source": [
    "# TF-IDF Feature Extraction"
   ]
  },
  {
   "cell_type": "code",
   "execution_count": null,
   "metadata": {},
   "outputs": [],
   "source": [
    " "
   ]
  },
  {
   "cell_type": "markdown",
   "metadata": {},
   "source": [
    "# Perceptron"
   ]
  },
  {
   "cell_type": "code",
   "execution_count": null,
   "metadata": {},
   "outputs": [],
   "source": []
  },
  {
   "cell_type": "markdown",
   "metadata": {},
   "source": [
    "# SVM"
   ]
  },
  {
   "cell_type": "code",
   "execution_count": null,
   "metadata": {},
   "outputs": [],
   "source": []
  },
  {
   "cell_type": "markdown",
   "metadata": {},
   "source": [
    "# Logistic Regression"
   ]
  },
  {
   "cell_type": "code",
   "execution_count": null,
   "metadata": {},
   "outputs": [],
   "source": []
  },
  {
   "cell_type": "markdown",
   "metadata": {},
   "source": [
    "# Naive Bayes"
   ]
  },
  {
   "cell_type": "code",
   "execution_count": null,
   "metadata": {},
   "outputs": [],
   "source": []
  }
 ],
 "metadata": {
  "kernelspec": {
   "display_name": "Python 3",
   "language": "python",
   "name": "python3"
  },
  "language_info": {
   "codemirror_mode": {
    "name": "ipython",
    "version": 3
   },
   "file_extension": ".py",
   "mimetype": "text/x-python",
   "name": "python",
   "nbconvert_exporter": "python",
   "pygments_lexer": "ipython3",
   "version": "3.8.8"
  }
 },
 "nbformat": 4,
 "nbformat_minor": 4
}
